{
 "cells": [
  {
   "cell_type": "markdown",
   "metadata": {},
   "source": [
    "### 1. From HTML\n",
    "\n",
    "*Using only beautiful soap*\n",
    "\n",
    "Save in a dataframe the next information using web scraping. Each row of the dataframe must have in different columns:\n",
    "\n",
    "- The name of the title\n",
    "- The id of the div where is the value scraped. If there is not id, then the value is must be numpy.nan\n",
    "- The name of the tag where is the value scraped.\n",
    "- The next scraped values in different rows: \n",
    "    - The value: \"Este es el segundo párrafo\"  --> Row 1\n",
    "    - The url https://pagina1.xyz/ --> Row 2\n",
    "    - The url https://pagina4.xyz/ --> Row 3\n",
    "    - The url https://pagina5.xyz/ --> Row 4\n",
    "    - The value \"links footer-links\" --> Row 5\n",
    "    - The value \"Este párrafo está en el footer\" --> Row 6"
   ]
  },
  {
   "cell_type": "code",
   "execution_count": 1,
   "metadata": {},
   "outputs": [],
   "source": [
    "import requests\n",
    "from bs4 import BeautifulSoup\n",
    "import pandas as pd\n",
    "import numpy as np"
   ]
  },
  {
   "cell_type": "code",
   "execution_count": 2,
   "metadata": {},
   "outputs": [],
   "source": [
    "html = \"\"\"<html lang=\"es\">\n",
    "<head>\n",
    "    <meta charset=\"UTF-8\">\n",
    "    <title>Página de prueba</title>\n",
    "</head>\n",
    "<body>\n",
    "<div id=\"main\" class=\"full-width\">\n",
    "    <h1>El título de la página</h1>\n",
    "    <p>Este es el primer párrafo</p>\n",
    "    <p>Este es el segundo párrafo</p>\n",
    "    <div id=\"innerDiv\">\n",
    "        <div class=\"links\">\n",
    "            <a href=\"https://pagina1.xyz/\">Enlace 1</a>\n",
    "            <a href=\"https://pagina2.xyz/\">Enlace 2</a>\n",
    "        </div>\n",
    "        <div class=\"right\">\n",
    "            <div class=\"links\">\n",
    "                <a href=\"https://pagina3.xyz/\">Enlace 3</a>\n",
    "                <a href=\"https://pagina4.xyz/\">Enlace 4</a>\n",
    "            </div>\n",
    "        </div>\n",
    "    </div>\n",
    "    <div id=\"footer\">\n",
    "        <!-- El footer -->\n",
    "        <p>Este párrafo está en el footer</p>\n",
    "        <div class=\"links footer-links\">\n",
    "            <a href=\"https://pagina5.xyz/\">Enlace 5</a>\n",
    "        </div>\n",
    "    </div>\n",
    "</div>\n",
    "</body>\n",
    "</html>\"\"\""
   ]
  },
  {
   "cell_type": "markdown",
   "metadata": {},
   "source": [
    "EJEMPLO DE COMO SERIA UTILIZANDO regex (no esta permitido su uso en este ejercicio)\n",
    "_____________________________________________________________________"
   ]
  },
  {
   "cell_type": "code",
   "execution_count": 5,
   "metadata": {},
   "outputs": [
    {
     "output_type": "execute_result",
     "data": {
      "text/plain": "['main', 'innerDiv', 'footer']"
     },
     "metadata": {},
     "execution_count": 5
    }
   ],
   "source": [
    "import re\n",
    "import bs4\n",
    "\n",
    "soup = bs4.BeautifulSoup(html)\n",
    "# Como me doy cuenta que los nombres de los id empiezan por \" y a contnuacion una palabra y terminan en otras dos comillas \" busco esas palabras haciendo una comprehension list\n",
    "x = [re.search('\"\\w+\"', e).group()[1:-1] for e in re.findall(\"id=.*\",str(soup.contents[0]))]\n",
    "\n",
    "x"
   ]
  },
  {
   "cell_type": "code",
   "execution_count": 5,
   "metadata": {},
   "outputs": [
    {
     "output_type": "execute_result",
     "data": {
      "text/plain": "bs4.element.Tag"
     },
     "metadata": {},
     "execution_count": 5
    }
   ],
   "source": [
    "type(soup.contents[0])"
   ]
  },
  {
   "cell_type": "code",
   "execution_count": 18,
   "metadata": {},
   "outputs": [
    {
     "output_type": "execute_result",
     "data": {
      "text/plain": "['id=\"main\">', 'id=\"innerDiv\">', 'id=\"footer\">']"
     },
     "metadata": {},
     "execution_count": 18
    }
   ],
   "source": [
    "lista_id = re.findall(\"id=.*\",str(soup.contents[0]))\n",
    "lista_id"
   ]
  },
  {
   "cell_type": "code",
   "execution_count": 20,
   "metadata": {
    "tags": []
   },
   "outputs": [
    {
     "output_type": "stream",
     "name": "stdout",
     "text": "['main', 'innerDiv', 'footer']\n"
    }
   ],
   "source": [
    "lista_id_dataframe = []\n",
    "for e in lista_id:\n",
    "        lista_id_dataframe.append(re.search('\"\\w+\"', e).group()[1:-1])\n",
    "print(lista_id_dataframe)"
   ]
  },
  {
   "cell_type": "code",
   "execution_count": 19,
   "metadata": {
    "tags": []
   },
   "outputs": [
    {
     "output_type": "stream",
     "name": "stdout",
     "text": "main\ninnerDiv\nfooter\n"
    }
   ],
   "source": [
    "for e in lista_id:\n",
    "    print(re.search('\"\\w+\"', e).group()[1:-1])\n"
   ]
  },
  {
   "cell_type": "code",
   "execution_count": null,
   "metadata": {},
   "outputs": [],
   "source": [
    "FIN EJEMPLO DE regex\n",
    "____________________________________________________________________"
   ]
  },
  {
   "cell_type": "code",
   "execution_count": 144,
   "metadata": {},
   "outputs": [],
   "source": [
    "lista_title = []\n",
    "lista_ids = []\n",
    "lista_tag = []\n",
    "lista_value = []"
   ]
  },
  {
   "cell_type": "code",
   "execution_count": 169,
   "metadata": {
    "tags": []
   },
   "outputs": [
    {
     "output_type": "execute_result",
     "data": {
      "text/plain": "['Página de prueba',\n 'Página de prueba',\n 'Página de prueba',\n 'Página de prueba',\n 'Página de prueba',\n 'Página de prueba']"
     },
     "metadata": {},
     "execution_count": 169
    }
   ],
   "source": [
    "# obtengo el title del texto de esta web, lo pongo en una lista multiplicandolo por seis porque tendre seis filas en el dataframe que me piden\n",
    "lista_title = [soup.title.getText()]*6\n",
    "lista_title"
   ]
  },
  {
   "cell_type": "markdown",
   "metadata": {},
   "source": [
    "RECORDATORIO\n",
    "\n",
    "find_all(name, attrs, recursive, string, limit, **kwargs)   \n",
    "find_all(True, 'id':True). El primer True se refiere al argumento name, y de esta manera cogera todos los que tengan nombre"
   ]
  },
  {
   "cell_type": "code",
   "execution_count": 129,
   "metadata": {},
   "outputs": [
    {
     "output_type": "execute_result",
     "data": {
      "text/plain": "['main', 'innerDiv', 'footer']"
     },
     "metadata": {},
     "execution_count": 129
    }
   ],
   "source": [
    "lista_id1 = []\n",
    "for elem in soup.find_all(True,{'id':True}):\n",
    "    lista_id1.append(elem['id']) \n",
    "lista_id1"
   ]
  },
  {
   "cell_type": "code",
   "execution_count": 130,
   "metadata": {},
   "outputs": [
    {
     "output_type": "execute_result",
     "data": {
      "text/plain": "['main', 'footer']"
     },
     "metadata": {},
     "execution_count": 130
    }
   ],
   "source": [
    "lista_id1 = lista_id1[0:3:2]\n",
    "lista_id1"
   ]
  },
  {
   "cell_type": "code",
   "execution_count": 172,
   "metadata": {},
   "outputs": [
    {
     "output_type": "execute_result",
     "data": {
      "text/plain": "['main', 'Nan', 'Nan', 'Nan', 'footer', 'main']"
     },
     "metadata": {},
     "execution_count": 172
    }
   ],
   "source": [
    "lista_ids =[lista_id1[0]] + ['Nan'] + ['Nan'] + ['Nan'] + [lista_id1[1]] + [lista_id1[0]]\n",
    "lista_ids"
   ]
  },
  {
   "cell_type": "code",
   "execution_count": 173,
   "metadata": {},
   "outputs": [],
   "source": [
    "lista_tags =['p', 'a', 'a', 'a', 'div', 'p']"
   ]
  },
  {
   "cell_type": "code",
   "execution_count": 84,
   "metadata": {},
   "outputs": [
    {
     "output_type": "execute_result",
     "data": {
      "text/plain": "[['full-width'], ['links'], ['right'], ['links'], ['links', 'footer-links']]"
     },
     "metadata": {},
     "execution_count": 84
    }
   ],
   "source": [
    "lista_id_div =[]\n",
    "for elem in soup.find_all('div',{'class':True}):\n",
    "    lista_id_div.append(elem['class']) \n",
    "lista_id_div"
   ]
  },
  {
   "cell_type": "code",
   "execution_count": 108,
   "metadata": {},
   "outputs": [
    {
     "output_type": "execute_result",
     "data": {
      "text/plain": "'footer-links'"
     },
     "metadata": {},
     "execution_count": 108
    }
   ],
   "source": [
    "value5 = lista_id_div[4][1]\n",
    "value5"
   ]
  },
  {
   "cell_type": "code",
   "execution_count": null,
   "metadata": {},
   "outputs": [],
   "source": []
  },
  {
   "cell_type": "code",
   "execution_count": 31,
   "metadata": {
    "tags": []
   },
   "outputs": [
    {
     "output_type": "execute_result",
     "data": {
      "text/plain": "[<p>Este es el primer párrafo</p>,\n <p>Este es el segundo párrafo</p>,\n <p>Este párrafo está en el footer</p>]"
     },
     "metadata": {},
     "execution_count": 31
    }
   ],
   "source": [
    "pElems = soup.select('p')\n",
    "pElems"
   ]
  },
  {
   "cell_type": "code",
   "execution_count": 42,
   "metadata": {
    "tags": []
   },
   "outputs": [
    {
     "output_type": "stream",
     "name": "stdout",
     "text": "['Este es el primer párrafo', 'Este es el segundo párrafo', 'Este párrafo está en el footer']\n"
    }
   ],
   "source": [
    "lista_value_p =[]\n",
    "for x in pElems:\n",
    "    lista_value_p.append(x.getText())\n",
    "print(lista_value_p)\n"
   ]
  },
  {
   "cell_type": "code",
   "execution_count": 44,
   "metadata": {},
   "outputs": [
    {
     "output_type": "execute_result",
     "data": {
      "text/plain": "['Este es el segundo párrafo', 'Este párrafo está en el footer']"
     },
     "metadata": {},
     "execution_count": 44
    }
   ],
   "source": [
    "lista_value_p.remove('Este es el primer párrafo')\n",
    "lista_value_p"
   ]
  },
  {
   "cell_type": "code",
   "execution_count": 122,
   "metadata": {},
   "outputs": [
    {
     "output_type": "execute_result",
     "data": {
      "text/plain": "[<a href=\"https://pagina1.xyz/\">Enlace 1</a>,\n <a href=\"https://pagina2.xyz/\">Enlace 2</a>,\n <a href=\"https://pagina3.xyz/\">Enlace 3</a>,\n <a href=\"https://pagina4.xyz/\">Enlace 4</a>,\n <a href=\"https://pagina5.xyz/\">Enlace 5</a>]"
     },
     "metadata": {},
     "execution_count": 122
    }
   ],
   "source": [
    "tag_a = soup.find_all('a')\n",
    "tag_a"
   ]
  },
  {
   "cell_type": "code",
   "execution_count": 126,
   "metadata": {
    "tags": []
   },
   "outputs": [
    {
     "output_type": "execute_result",
     "data": {
      "text/plain": "['https://pagina1.xyz/',\n 'https://pagina2.xyz/',\n 'https://pagina3.xyz/',\n 'https://pagina4.xyz/',\n 'https://pagina5.xyz/']"
     },
     "metadata": {},
     "execution_count": 126
    }
   ],
   "source": [
    "lista_value_a = []\n",
    "for elem in tag_a:\n",
    "    href = elem.get('href')\n",
    "    lista_value_a.append(href)\n",
    "lista_value_a"
   ]
  },
  {
   "cell_type": "code",
   "execution_count": 175,
   "metadata": {},
   "outputs": [
    {
     "output_type": "execute_result",
     "data": {
      "text/plain": "['https://pagina1.xyz/', 'https://pagina4.xyz/', 'https://pagina5.xyz/']"
     },
     "metadata": {},
     "execution_count": 175
    }
   ],
   "source": [
    "# Elimino los que no necesito para el Dataframe de la lista valores a\n",
    "del lista_value_a[1:3]\n",
    "lista_value_a"
   ]
  },
  {
   "cell_type": "code",
   "execution_count": 176,
   "metadata": {},
   "outputs": [
    {
     "output_type": "execute_result",
     "data": {
      "text/plain": "['Este es el segundo párrafo',\n 'https://pagina1.xyz/',\n 'https://pagina4.xyz/',\n 'https://pagina5.xyz/',\n 'footer-links',\n 'Este es el segundo párrafo']"
     },
     "metadata": {},
     "execution_count": 176
    }
   ],
   "source": [
    "lista_value = [lista_value_p[0]] + lista_value_a + [value5] + [lista_value_p[0]]\n",
    "lista_value"
   ]
  },
  {
   "cell_type": "code",
   "execution_count": 177,
   "metadata": {},
   "outputs": [
    {
     "output_type": "execute_result",
     "data": {
      "text/plain": "              title      id  tag                       value\n0  Página de prueba    main    p  Este es el segundo párrafo\n1  Página de prueba     Nan    a        https://pagina1.xyz/\n2  Página de prueba     Nan    a        https://pagina4.xyz/\n3  Página de prueba     Nan    a        https://pagina5.xyz/\n4  Página de prueba  footer  div                footer-links\n5  Página de prueba    main    p  Este es el segundo párrafo",
      "text/html": "<div>\n<style scoped>\n    .dataframe tbody tr th:only-of-type {\n        vertical-align: middle;\n    }\n\n    .dataframe tbody tr th {\n        vertical-align: top;\n    }\n\n    .dataframe thead th {\n        text-align: right;\n    }\n</style>\n<table border=\"1\" class=\"dataframe\">\n  <thead>\n    <tr style=\"text-align: right;\">\n      <th></th>\n      <th>title</th>\n      <th>id</th>\n      <th>tag</th>\n      <th>value</th>\n    </tr>\n  </thead>\n  <tbody>\n    <tr>\n      <th>0</th>\n      <td>Página de prueba</td>\n      <td>main</td>\n      <td>p</td>\n      <td>Este es el segundo párrafo</td>\n    </tr>\n    <tr>\n      <th>1</th>\n      <td>Página de prueba</td>\n      <td>Nan</td>\n      <td>a</td>\n      <td>https://pagina1.xyz/</td>\n    </tr>\n    <tr>\n      <th>2</th>\n      <td>Página de prueba</td>\n      <td>Nan</td>\n      <td>a</td>\n      <td>https://pagina4.xyz/</td>\n    </tr>\n    <tr>\n      <th>3</th>\n      <td>Página de prueba</td>\n      <td>Nan</td>\n      <td>a</td>\n      <td>https://pagina5.xyz/</td>\n    </tr>\n    <tr>\n      <th>4</th>\n      <td>Página de prueba</td>\n      <td>footer</td>\n      <td>div</td>\n      <td>footer-links</td>\n    </tr>\n    <tr>\n      <th>5</th>\n      <td>Página de prueba</td>\n      <td>main</td>\n      <td>p</td>\n      <td>Este es el segundo párrafo</td>\n    </tr>\n  </tbody>\n</table>\n</div>"
     },
     "metadata": {},
     "execution_count": 177
    }
   ],
   "source": [
    "data = {'title': lista_title,\n",
    "        'id': lista_ids,\n",
    "        'tag': lista_tags,\n",
    "        'value': lista_value}\n",
    "df = pd.DataFrame(data)\n",
    "df\n"
   ]
  },
  {
   "cell_type": "code",
   "execution_count": null,
   "metadata": {},
   "outputs": [],
   "source": []
  },
  {
   "cell_type": "markdown",
   "metadata": {},
   "source": [
    "### 2. From Amazon\n",
    "\n",
    "*Using  beautiful soap and/or regex*\n",
    "\n",
    "Save in a dataframe the next information using web scraping. Using product pages from Amazon, do the following: \n",
    "\n",
    "- Get the product name from the web and save it in a column called \"item_name\"\n",
    "- Get the price from the web and save it in a column called \"item_price\"\n",
    "\n",
    "While you are doing the exercise, document the steps you are doing. Try to do the program for generic pages. If you cannot do it generic, explain the reasons. \n",
    "\n",
    "-------------------------------\n",
    "\n",
    "**Example:** \n",
    "\n",
    "url = https://www.amazon.es/Tommy-Hilfiger-UM0UM00054-Camiseta-Hombre/dp/B01MYD0T1F/ref=sr_1_1?dchild=1&pf_rd_p=58224bec-cac9-4dd2-a42a-61b1db609c2d&pf_rd_r=VZQ1JTQXFVRZ9E9VSKX4&qid=1595364419&s=apparel&sr=1-1\n",
    "\n",
    "*item_name* --> \"Tommy Hilfiger Logo Camiseta de Cuello Redondo,Perfecta para El Tiempo Libre para Hombre\"\n",
    "\n",
    "*item_price* --> [[18,99 € - 46,59 €]] or one of the options.\n",
    "\n",
    "\n"
   ]
  },
  {
   "cell_type": "markdown",
   "metadata": {},
   "source": [
    "Por la alta sensibilidad de la web de Amazon, voy a hacer el ejercicion con este otro artículo\n",
    "url = https://www.amazon.es/Rosefield-Anal%C3%B3gico-Cuarzo-Correa-MBR-M45/dp/B06VXBBWDW/ref=redir_mobile_desktop?ie=UTF8&aaxitk=wlHC-hIZhue6npblbfQNJg&hsa_cr_id=5608327730302&ref_=sbx_be_s_sparkle_tsld_asin_0\n"
   ]
  },
  {
   "cell_type": "code",
   "execution_count": 178,
   "metadata": {},
   "outputs": [],
   "source": [
    "headers = {'User-Agent': 'Mozilla/5.0 (Windows NT 10.0; Win64; x64) AppleWebKit/537.36 (KHTML, like Gecko) Chrome/58.0.3029.110 Safari/537.3'}"
   ]
  },
  {
   "cell_type": "code",
   "execution_count": 179,
   "metadata": {},
   "outputs": [],
   "source": [
    "url ='https://www.amazon.es/Rosefield-Anal%C3%B3gico-Cuarzo-Correa-MBR-M45/dp/B06VXBBWDW/ref=redir_mobile_desktop?ie=UTF8&aaxitk=wlHC-hIZhue6npblbfQNJg&hsa_cr_id=5608327730302&ref_=sbx_be_s_sparkle_tsld_asin_0'"
   ]
  },
  {
   "cell_type": "code",
   "execution_count": 180,
   "metadata": {},
   "outputs": [],
   "source": [
    "response = requests.get(url, headers=headers)"
   ]
  },
  {
   "cell_type": "code",
   "execution_count": 181,
   "metadata": {
    "tags": [
     "outputPrepend"
    ]
   },
   "outputs": [
    {
     "output_type": "stream",
     "name": "stdout",
     "text": "{producerId:t});r.id=e.id,r.l=o,r.e=e,r.el=n,r.rt=i,r.dlo=d,r.log=function(t,e){o(\"log\",t,e||d)},e.id&&o(\"setEntity\",{element:e})},L=q.prototype;function N(t){var e=(t=t||{}).element,n=t.target;return e?function(t,e){var n;n=t instanceof k?_(t)||S(e[l],t,F,c.time()):O[t.id]||$(e[l],0,t,c.time());return n}(e,t):n?function(t){var e,n=function(t){var e=null,n=0;for(;t&&n<h;){if(n++,T(t,p)){e=t;break}t=t.parentElement}return e}(t);e=n?_(n):new q(\"csa\",{id:null},null,c.time());return e}(n):c.error(\"No element or target argument provided.\")}function T(t,e){if(t&&t.dataset)return t.dataset[e]}function j(t,e,n){U.push({n:n,e:t,t:e}),D()}function x(){for(var t=c.time(),e=0;0<U.length;){var n=U.shift();if(v[n.n](n.e,n.t),++e%10==0&&c.time()-t>m)break}i=0,U.length&&D()}function D(){i=i||w[n](x)}function M(t,e,n){return{n:t,e:e,t:n}}function S(t,e,n,i){var r=c.UUID(),o={id:r};return e[f][p]=r,n(o,e),$(t,e,o,i)}function $(t,e,n,i){I&&(n.schemaId=\"<ns>.ContentEntity.2\"),n.id=n.id||c.UUID();var r=new q(t,n,e,i);return I&&r.log({schemaId:\"<ns>.ContentRender.1\",timestamp:i}),c.emit(\"$content.register\",r),O[n.id]=r}function _(t){return O[(t[f]||{})[p]]}function F(t,e){o in e&&(function(n,i){Object.keys(n[f]).forEach(function(t){if(!t.indexOf(g)&&g.length<t.length){var e=function(t){return(t[0]||\"\").toLowerCase()+t.slice(1)}(t.slice(g.length));i[e]=n[f][t]}})}(e,t),function(e,n){(e[o]()||[]).forEach(function(t){t in b&&(n[t]=e[s](t))})}(e,t))}C&&w[n]&&A[u]&&w[e]&&(E.push({selector:\"*[data-csa-c-type]\",entity:F}),E.push({selector:\".celwidget\",entity:function(t,e){F(t,e),t.slotId=e[s](\"cel_widget_id\")||e.id,t.type=\"widget\"}}),v[1]=function(t,e){t.forEach(function(t){Array.isArray(t[r])&&t[r].forEach(function(t){U.unshift(M(2,t,e))})})},v[2]=function(o,c){u in o&&a in o&&E.forEach(function(t){var e=t.selector,n=o[a](e),i=o[u](e);n&&U.unshift(M(3,{e:o,s:t},c));for(var r=0;r<i.length;r++)U.unshift(M(3,{e:i[r],s:t},c))})},v[3]=function(t,e){var n=t.e;_(n)||S(\"csa\",n,t.s.entity,e)},v[4]=function(){c.register(t,{instance:N})},new w[e](function(t){j(t,c.time(),1)}).observe(C,{childList:!0,subtree:!0}),j(C,c.time(),2),j(null,c.time(),4),c.on(\"$content.export\",function(e){Object.keys(e).forEach(function(t){L[t]=e[t]})}))});csa.plugin(function(i){var n,t=\"IntersectionObserver\",o=\"getAttribute\",r=\"dataset\",s=\"intersectionRatio\",m=\"csaCId\",a=i.config[\"Content.ImpressionMinimumTime\"]||1e3,c=i.global,e=((c.performance||{}).timing||{}).navigationStart||i.time(),l={};function u(t){t&&(t.v=1,function(t){t.vt=i.time(),t.el.log({schemaId:\"<ns>.ContentView.2\",timeToViewed:t.vt-t.el.rt,pageFirstPaintToElementViewed:t.vt-e})}(t))}function f(t){t&&!t.it&&(t.i=i.time()-t.is>a,function(t){t.it=i.time(),t.el.log({schemaId:\"<ns>.ContentImpressed.2\",timeToImpressed:t.it-t.el.rt,pageFirstPaintToElementImpressed:t.it-e})}(t))}c[t]&&(n=new c[t](function(t){t.forEach(function(t){var e=function(t){if(t&&t[o])return l[t[r][m]]}(t.target);t.isIntersecting&&(e.v||u(e),.5<=t[s]&&!e.is&&(e.is=i.time(),e.timer=c.setTimeout(f.bind(this,e),a))),t[s]<.5&&!e.it&&e.timer&&(c.clearTimeout(e.timer),e.is=0,e.timer=0)})},{threshold:[0,.5]}),i.on(\"$content.register\",function(t){var e=t.el;e&&(l[t.id]={el:t,v:0,i:0,is:0,vt:0,it:0},n.observe(e))}))});csa.plugin(function(e){e.emit(\"$content.export\",{mark:function(t,n){var o=this;o.t||(o.t=e(\"Timers\",{logger:o.l,schemaId:\"<ns>.ContentLatency.1\",logOptions:o.dlo})),o.t(\"mark\",t,n)}})});\n(function(f,r,u){var p=function(){var a,c=function(){return null!=a?a:a=function(){var a=[],c=\"unknown\",b={trident:0,gecko:0,presto:0,webkit:0,unknown:-1},d,e={},c=document.createElement(\"nadu\");for(d in c.style)if(c=(/^([A-Za-z][a-z]*)[A-Z]/.exec(d)||[])[1])c=c.toLowerCase(),c in e?e[c]++:e[c]=1;for(var k in e)a.push([k,e[k]]);a=a.sort(function(a,c){return c[1]-a[1]}).slice(0,10);for(d=0;d<a.length;d++)switch(a[d][0]){case \"moz\":b.gecko+=5;break;case \"ms\":b.trident+=5;break;case \"get\":b.webkit++;\nbreak;case \"webkit\":b.webkit+=5;break;case \"o\":b.presto+=2;break;case \"xv\":b.presto+=2}\"onhelp\"in window&&b.trident++;\"maxConnectionsPerServer\"in window&&b.trident++;try{void 0!==window.ActiveXObject.toString&&(b.trident+=5)}catch(n){}void 0!==function(){}.toSource&&(b.gecko+=5);var a=\"unknown\",f;for(f in b)b[f]>b[a]&&(a=f);return a}()},b=function(){return!!window.opera||!!window.opr&&!!window.opr.addons},d=function(){return!!document.documentMode},e=function(){return!d()&&\"undefined\"!==typeof CSS&&\nCSS.supports(\"(-ms-ime-align:auto)\")},k=function(){return\"webkit\"==c()},n=function(){return void 0!==r.chrome&&\"Opera Software ASA\"!=navigator.vendor&&void 0===navigator.msLaunchUri&&k()};return{isOpera:b,isIE:d,isEdge:e,isFirefox:function(){return\"undefined\"!==typeof InstallTrigger},isWebkit:k,isChrome:n,isSafari:function(){return!n()&&!e()&&!b()&&\"WebkitAppearance\"in document.documentElement.style}}}(),s=function(a,c,b,d){a.addEventListener?a.addEventListener(c,b,d):a.attachEvent&&a.attachEvent(\"on\"+\nc,b)},q=function(a,c,b,d){document.removeEventListener?a.removeEventListener(c,b,d||!1):document.detachEvent&&a.detachEvent(\"on\"+c,b)},y=function(a){var c;a=a.document;\"undefined\"!==typeof a.hidden?c=\"visibilitychange\":\"undefined\"!==typeof a.mozHidden?c=\"mozvisibilitychange\":\"undefined\"!==typeof a.msHidden?c=\"msvisibilitychange\":\"undefined\"!==typeof a.webkitHidden&&(c=\"webkitvisibilitychange\");return c},E=function(a,c){var b=y(a),d=a.document;b&&s(d,b,c,!1)},F=function(a){var c=window.addEventListener?\n\"addEventListener\":\"attachEvent\";(0,window[c])(\"attachEvent\"==c?\"onmessage\":\"message\",function(c){a(c[c.message?\"message\":\"data\"])},!1)},G=function(a,c){\"function\"===typeof a&&Math.random()<c/100&&a.call(this)},H=function(a,c,b){var d=window.document.createElement(\"IFRAME\");d.id=c;d.height=\"5px\";d.width=\"5px\";d.src=b?b:\"javascript:'1'\";d.style.position=\"absolute\";d.style.top=\"-10000px\";d.style.left=\"-10000px\";d.style.visibility=\"hidden\";d.style.opacity=0;window.document.body.appendChild(d);try{var e=\nd.contentDocument;if(e){e.open();e.writeln(\"<!DOCTYPE html><html><head><title></title></head><body></body></html>\");e.close();var k=e.createElement(\"script\");k&&(k.type=\"text/javascript\",k.text=a,e.body.appendChild(k))}}catch(f){z(f,\"JS exception while injecting iframe\")}return d},z=function(a,c){f.ueLogError(a,{logLevel:\"ERROR\",attribution:\"A9TQForensics\",message:c})},I=function(a,c,b){a={vfrd:1===c?\"8\":\"4\",dbg:a};\"object\"===typeof b?a.info=JSON.stringify(b):\"string\"===typeof b&&(a.info=b);return{server:window.location.hostname,\nfmp:a}};(function(a){function c(a,c,b){var l=\"chrm msie ffox sfri opra phnt slnm othr extr xpcm invs poev njs cjs rhn clik1 rfs uam clik stln snd nfo hlpx clkh mmh chrm1 chrm2 wgl srvr zdim nomime chrm3 otch ivm.tst ivm.clk mmh2 clkh2 achf nopl\".split(\" \");r=a<l.length?l[a]:\"othr\";f.ue&&f.ue.event&&f.ue.event(I(r,c,b),\"a9_tq\",\"a9_tq.FraudMetrics.3\")}function b(){var c=!1,g=\"\",b=function(a,c){var g,b,h=!1;for(g in a)h=h||-1<c.indexOf(g);if(\"function\"===typeof Object.getOwnPropertyNames)for(g=Object.getOwnPropertyNames(a),\nb=0;b<g.length;b++)h=h||-1<c.indexOf(g[b]);if(\"function\"===typeof Object.keys)for(g=Object.keys(a),b=0;b<g.length;b++)h=h||-1<c.indexOf(g[b]);return h},l=function(a){try{return!!a.toString().match(/\\{\\s*\\[native code\\]\\s*\\}$/m)}catch(c){return!1}},d=0;\"undefined\"!==typeof _evaluate&&-1<_evaluate.toString().indexOf(\"browser.runScript\")&&d++;\"undefined\"!==typeof ArrayBuffer&&\"undefined\"!==typeof print&&l(ArrayBuffer)&&!l(print)&&d++;\"undefined\"!==typeof ABORT_ERR&&d++;\"undefined\"!==typeof browser&&\n\"undefined\"!==typeof browser._windowInScope&&\"undefined\"!==typeof browser._windowInScope._response&&d++;3<=d&&(c=!0);l=[function(){if(!0===b(u,\"__webdriver_evaluate __selenium_evaluate __fxdriver_evaluate __driver_evaluate __webdriver_unwrapped __selenium_unwrapped __fxdriver_unwrapped __driver_unwrapped __webdriver_script_function __webdriver_script_func __webdriver_script_fn webdriver _Selenium_IDE_Recorder _selenium calledSelenium $cdc_asdjflasutopfhvcZLmcfl_ $chrome_asyncScriptInfo __$webdriverAsyncExecutor\".split(\" \")))return!0;\nvar c=function(c){return c.match(/\\$[a-z]dc_/)&&a.document[c]&&a.document[c].cache_},h;for(h in u)if(c(h))return g=h,!0;if(\"function\"===typeof Object.getOwnPropertyNames)for(var d=Object.getOwnPropertyNames(u),l=0;l<d.length;l++)if(c(d[l]))return g=h,!0;return!1},function(){return b(a,\"_phantom __nightmare _selenium callPhantom callSelenium _Selenium_IDE_Recorder webdriver __webdriverFunc domAutomation domAutomationController __lastWatirAlert __lastWatirConfirm __lastWatirPrompt _WEBDRIVER_ELEM_CACHE\".split(\" \"))},\nfunction(){return a.webdriver||a.document.webdriver||a.document.documentElement.hasAttribute(\"webdriver\")||a.document.documentElement.hasAttribute(\"selenium\")||a.document.documentElement.hasAttribute(\"driver\")||navigator.webdriver||\"object\"===typeof a.$cdc_asdjflasutopfhvcZLmcfl_||\"object\"===typeof a.document.$cdc_asdjflasutopfhvcZLmcfl_||null!=a.name&&-1<a.name.indexOf(\"driver\")?(g=null!=a.name?a.name:\"\",!0):!1},function(){return a.external&&\"function\"===typeof a.external.toString&&a.external.toString()&&\n-1!=a.external.toString().indexOf(\"Sequentum\")?(g=a.external.toString(),!0):!1}];for(d=0;d<l.length;d++)if(l[d].call()){c=!0;break}return{isSel:c,isTest:!1,info:g}}function d(){var a=\"AddChannel AddDesktopComponent AddFavorite AddSearchProvider AddService AddToFavoritesBar AutoCompleteSaveForm AutoScan bubbleEvent ContentDiscoveryReset ImportExportFavorites InPrivateFilteringEnabled IsSearchProviderInstalled IsServiceInstalled IsSubscribed msActiveXFilteringEnabled msAddSiteMode msAddTrackingProtectionList msClearTile msEnableTileNotificationQueue msEnableTileNotificationQueueForSquare150x150 msEnableTileNotificationQueueForSquare310x310 msEnableTileNotificationQueueForWide310x150 msIsSiteMode msIsSiteModeFirstRun msPinnedSiteState msProvisionNetworks msRemoveScheduledTileNotification msReportSafeUrl msScheduledTileNotification msSiteModeActivate msSiteModeAddButtonStyle msSiteModeAddJumpListItem msSiteModeAddThumbBarButton msSiteModeClearBadge msSiteModeClearIconOverlay msSiteModeClearJumpList msSiteModeCreateJumpList msSiteModeRefreshBadge msSiteModeSetIconOverlay msSiteModeShowButtonStyle msSiteModeShowJumpList msSiteModeShowThumbBar msSiteModeUpdateThumbBarButton msStartPeriodicBadgeUpdate msStartPeriodicTileUpdate msStartPeriodicTileUpdateBatch msStopPeriodicBadgeUpdate msStopPeriodicTileUpdate msTrackingProtectionEnabled NavigateAndFind raiseEvent setContextMenu ShowBrowserUI menuArguments onvisibilitychange scrollbar selectableContent version visibility mssitepinned AddUrlAuthentication CloseRegPopup FeatureEnabled GetJsonWebData GetRegValue Log LogShellErrorsOnly OpenPopup ReadFile RunGutsScript SaveRegInfo SetAppMaximizeTimeToRestart SetAppMinimizeTimeToRestart SetAutoStart SetAutoStartMinimized SetMaxMemory ShareEventFromBrowser ShowPopup ShowRadar WriteFile WriteRegValue summonWalrus\".split(\" \"),\ng=-1,b,d;\"Microsoft Internet Explorer\"===navigator.appName?(b=navigator.userAgent,d=/MSIE ([0-9]{1,}[\\.0-9]{0,})/,null!==d.exec(b)&&(g=parseFloat(RegExp.$1))):\"Netscape\"===navigator.appName&&(b=navigator.userAgent,d=/Trident\\/.*rv:([0-9]{1,}[\\.0-9]{0,})/,null!==d.exec(b)&&(g=parseFloat(RegExp.$1)));if(-1===g&&null===navigator.userAgent.match(/Windows Phone/)&&window.external){for(b=g=0;b<a.length;b++)if(\"unknown\"===typeof window.external[a[b]]){g++;break}0<g&&c(17)}}function e(){var a=Math.random().toString(36).substr(2),\nb=null;F(function(d){try{var l=d.split(\" \");if(null!==b&&l[0]===a&&0<l[1].length){var e=JSON.parse(l[1]);for(d=0;d<e.length;d++)1==d&&\"R29vZ2xlIFN3aWZ0U2hhZGVy\"==e[d]&&c(27)}}catch(m){}});b=H('(function fg45s() {                     var payload = [];                     var canvas = document.createElement(\"canvas\");                     var gl = canvas.getContext(\"webgl\") || canvas.getContext(\"experimental-webgl\") || canvas.getContext(\"moz-webgl\");                     if (gl != null) {                         var debugInfo = gl.getExtension(\"WEBGL_debug_renderer_info\");                         if (debugInfo != null) {                             payload.push(btoa(gl.getParameter(debugInfo.UNMASKED_VENDOR_WEBGL)));                             payload.push(btoa(gl.getParameter(debugInfo.UNMASKED_RENDERER_WEBGL)));                             parent.postMessage(window.frameElement.id + \" \" + JSON.stringify(payload), parent.location.origin);                         }                     }                 }             )();',\na);window.setTimeout(function(){document.body.removeChild(b);b=null},5E3)}function k(){function b(){q(a,\"mousemove\",d);q(a,\"click\",g)}function g(){c(23);b();q(a.document,m,l)}function d(){e||(e=!0,c(24),b(),q(a.document,m,l))}function l(){var c;\"undefined\"!==typeof document.hidden?c=\"hidden\":\"undefined\"!==typeof document.mozHidden?c=\"mozHidden\":\"undefined\"!==typeof document.msHidden?c=\"msHidden\":\"undefined\"!==typeof document.webkitHidden&&(c=\"webkitHidden\");!0!==document[c]===!1?(s(a,\"mousemove\",\nd,!1),s(a,\"click\",g,!1)):b()}var e=!1,m=y(a);E(a,l)}var n=function(){var a=window.navigator,c=a.vendor,b=\"undefined\"!==typeof window.opr,d=-1<a.userAgent.indexOf(\"Edg\"),a=/Chrome/.test(a.userAgent);return/Google Inc\\./.test(c)&&a&&!b&&!d}(),r=null,A=function(a){var b=[],d=(new Date).getTime(),l=function(){q(a,\"mousemove\",e);q(a,\"click\",m)},e=function(a){var h=(new Date).getTime();if(!(100>h-d)){b.push({x:a.clientX,y:a.clientY});if(50<b.length&&(b.shift(),!(50>b.length))){var e=b[0].x,t=b[49].x,m=\nb[0].y,f=b[49].y;a=f-m;for(var k=e-t,e=m*t-e*f,t=b[49].ts-b[0].ts,m=!0,f=0;f<b.length;f++)if(0!=a*b[f].x+k*b[f].y+e){m=!1;break}!0==m&&(a={grdt:a/k*-1,tmsp:t},l(),c(19,0,a))}d=h}},m=function(a){var d=a.clientX;a=a.clientY;var h={hcc:b.length,cx:d,cy:a};if(0===b.length)l(),c(18,0,h);else if(null!=d&&null!=a){var e;h.hpos=b;e=b[b.length-1];e=Math.sqrt(Math.pow(d-e.x,2)+Math.pow(a-e.y,2));100<e&&(h.hcc=b.length,h.cx=d,h.cy=a,h.dhp=e,l(),c(15,0,h))}};s(a,\"mousemove\",e,!1);s(a,\"click\",m,!1)},B=function(){if(p.isFirefox()){var a=\n0;void 0!==window.onstorage&&a++;var b=document.createElement(\"div\");b.style.wordSpacing=\"22%\";\"22%\"===b.style.wordSpacing&&a++;\"function\"===typeof b.getAttributeNames&&a++;b=document.createElement(\"script\");b.type=\"text/javascript\";b.text=\"class Rectangle {             constructor(height, width) {                 this.height = height;                 this.width = width;             }             get area() {                 return this.calcArea();             }             calcArea() {                 return this.height * this.width;             }             }             const square = new Rectangle(10, 10);             window.__random__str = square.area;\";\ndocument.body.appendChild(b);100===window.__random__str&&a++;document.body.removeChild(b);2<a&&(void 0===window.onabsolutedeviceorientation||void 0===navigator.permissions)&&c(37,0,a)}},v=function(){return null===navigator.userAgent.match(/(iPad|iPhone|iPod|android|webOS)/i)},C=function(){var a=function(a,b){for(var c,d=\"\",e={},h={},g=0,f=0;f<b.length;f++)h[b[f]]=String.fromCharCode(126-f);var g=0,k;for(k in a)-1<b.indexOf(k)&&(e[k]=1,g++);d=d+g+\"!\";if(\"function\"===typeof Object.getOwnPropertyNames){c=\nObject.getOwnPropertyNames(a);for(f=g=0;f<c.length;f++)-1<b.indexOf(c[f])&&(e[c[f]]=1,g++);d=d+g+\"!\"}if(\"function\"===typeof Object.keys){c=Object.keys(a);for(f=g=0;f<c.length;f++)-1<b.indexOf(c[f])&&(e[c[f]]=1,g++);d=d+g+\"!\"}if(\"prototype\"in Object&&\"hasOwnProperty\"in Object.prototype)for(k in e)Object.prototype.hasOwnProperty.call(e,k)&&(d+=h[k]);else for(k in e)d+=h[k];return encodeURIComponent(d)},b=document.createElement(\"nadu\"),a={w:a(window,\"SVGFESpotLightElement XMLHttpRequestEventTarget onratechange StereoPannerNode dolphinInfo VTTCue globalStorage WebKitCSSRegionRule MozSmsFilter MediaController mozInnerScreenX onwebkitwillrevealleft DOMMatrix GeckoActiveXObject MediaQueryListEvent PhoneNumberService ServiceWorkerContainer yandex vc2hxtaq9c NavigatorDeviceStorage HTMLHtmlElement ScreenOrientation MSGesture mozCancelRequestAnimationFrame GetSVGDocument MediaSource webkitMediaStream DeviceMotionEvent webkitPostMessage doNotTrack WebKitMediaKeyError HTMLCollection InstallTrigger StorageObsolete CustomEvent orientation XMLHttpRequest Worker showModelessDialog EventSource onmouseleave SVGAnimatedPathData TouchList TextTrackCue onanimationend HTMLBodyElement fluid MSFrameUITab Generator SecurityPolicyViolationEvent ClientRectList SmartCardEvent CSSSupportsRule mmbrowser\".split(\" \")),\nc:a(b.style,\"XvPhonemes MozTextAlignLast webkitFilter MozPerspective msTextSizeAdjust OAnimationFillMode borderImageSource MozOSXFontSmoothing border-inline-start-color MozOsxFontSmoothing columns touchAction scroll-snap-coordinate webkitAnimationFillMode webkitLineSnap webkitGridAutoColumns animationDuration isolation overflowWrap offsetRotation webkitShapeOutside MozOpacity position justifySelf borderRight webkitMatchNearestMailBlockquoteColor msImeAlign parentRule MozColumnFill cssText borderRightStyle textOverflow webkitGridRow webkitBackgroundComposite length -moz-column-fill enableBackground flex-basis\".split(\" \"))};\nf.ue&&f.ue.event&&(a={vfrd:\"0\",info:JSON.stringify(a)},f.ue.event({server:window.location.hostname,fmp:a},\"a9_tq\",\"a9_tq.FraudMetrics.3\"))};try{(a.callPhantom||a._phantom||a.PhantomEmitter||a.__phantomas||/PhantomJS/.test(navigator.userAgent))&&c(5);a.Buffer&&c(12);a.emit&&c(13);a.spawn&&c(14);(null!=a.domAutomation||null!=a.domAutomationController||null!=a._WEBDRIVER_ELEM_CACHE||/HeadlessChrome/.test(navigator.userAgent)||\"\"===navigator.languages)&&c(0);if(p.isChrome()&&a.webkitRequestFileSystem)a.webkitRequestFileSystem(a.TEMPORARY,\n1,function(){},function(){c(0)});else if(p.isSafari()&&a.localStorage){try{a.localStorage.setItem(\"__nadu\",\"\")}catch(J){c(3)}a.localStorage.removeItem(\"__nadu\")}!v()||navigator.mimeTypes&&0!=navigator.mimeTypes.length||(n?c(30,0,\"chrm\"):p.isFirefox()&&c(30,0,\"ff\"));p.isWebkit()&&n&&v()&&(void 0===a.chrome&&c(0),a.chrome&&a.chrome.app&&!1!==a.chrome.app.isInstalled&&void 0!==navigator.languages&&c(31));a.external&&\"function\"===typeof a.external.toString&&a.external.toString()&&-1<a.external.toString().indexOf(\"RuntimeObject\")&&\nc(8);a.FirefoxInterfaces&&\"function\"===typeof a.FirefoxInterfaces&&a.FirefoxInterfaces(\"wdICoordinate\",\"wdIMouse\",\"wdIStatus\")&&c(2);a.XPCOMUtils&&c(9);(a.Components&&(a.Components.interfaces&&a.Components.interfaces.nsICommandProcessor||a.Components.wdICoordinate||a.Components.wdIMouse||a.Components.wdIStatus||a.Components.classes)||a.netscape&&a.netscape.security&&a.netscape.security.privilegemanager)&&c(8);a.isExternalUrlSafeForNavigation&&c(1);!a.opera||null===a.opera._browserjsran||0!==a.opera._browserjsran&&\n!1!==a.opera._browserjsran||c(4);a.screen&&(1>=a.screen.availHeight||1>=a.screen.availWidth||1>=a.screen.height||1>=a.screen.width||0>=a.screen.devicePixelRatio)&&c(10);var w=window.setInterval(function(){var a=b();a.isSel&&(c(6,!0===a.isTest?1:0,a.info),window.clearInterval(w))},1E3);window.setTimeout(function(){window.clearInterval(w)},1E4);var x=a.PointerEvent;a.PointerEvent=function(){c(11);if(void 0!==x){var a=Array.prototype.slice.call(arguments);return new x(a)}return null};d();A(a);k();e();\n0!==a.outerHeight&&0!==a.outerWidth||c(29);B();!v()||navigator.plugins&&0!=navigator.plugins.length||(n?c(38,0,\"chrm\"):p.isFirefox()&&c(38,0,\"ff\"));G(C,10)}catch(D){z(D,\"JS exception - \")}})(r)})(ue_csm,window,document);\n\n\n\n\n\n\n\n\n\n\n}\n/* ◬ */\n</script>\n\n</div>\n\n<noscript>\n    <img height=\"1\" width=\"1\" style='display:none;visibility:hidden;' src='//fls-eu.amazon.es/1/batch/1/OP/A1RKKUPIHCS9HS:258-8134490-3456002:13493G0RQWMS1Y0HZRTX$uedata=s:%2Fgp%2Fuedata%3Fnoscript%26id%3D13493G0RQWMS1Y0HZRTX:0' alt=\"\"/>\n</noscript>\n\n</div></body></html>\n<!--       _\n       .__(.)< (MEOW)\n        \\___)   \n ~~~~~~~~~~~~~~~~~~-->\n<!-- sp:eh:WPEPTYzNCWLkYSRaAGlqo0G3VSpUYNMroD+OSG5A9168vvTuw8NbDZLtzX+kkmbWkZb/MsHHvIzAC1fEOvTkgQsevc19FlFs+DKhGEKVE/4NvGnOQcRGyw== -->\n\n"
    }
   ],
   "source": [
    "print(response.text)"
   ]
  },
  {
   "cell_type": "code",
   "execution_count": 212,
   "metadata": {},
   "outputs": [
    {
     "output_type": "execute_result",
     "data": {
      "text/plain": "'Rosefield Reloj Analógico para Mujer de Cuarzo con Correa en Metal MBR-M45: Amazon.es: Relojes'"
     },
     "metadata": {},
     "execution_count": 212
    }
   ],
   "source": [
    "title_item = soup.title.getText()\n",
    "title_item"
   ]
  },
  {
   "cell_type": "code",
   "execution_count": 217,
   "metadata": {},
   "outputs": [
    {
     "output_type": "error",
     "ename": "TypeError",
     "evalue": "'NoneType' object is not subscriptable",
     "traceback": [
      "\u001b[1;31m---------------------------------------------------------------------------\u001b[0m",
      "\u001b[1;31mTypeError\u001b[0m                                 Traceback (most recent call last)",
      "\u001b[1;32m<ipython-input-217-aea6e1db51dc>\u001b[0m in \u001b[0;36m<module>\u001b[1;34m\u001b[0m\n\u001b[1;32m----> 1\u001b[1;33m \u001b[0mprice\u001b[0m \u001b[1;33m=\u001b[0m \u001b[0msoup\u001b[0m\u001b[1;33m.\u001b[0m\u001b[0mfind\u001b[0m\u001b[1;33m(\u001b[0m\u001b[0mid\u001b[0m\u001b[1;33m=\u001b[0m\u001b[1;34m\"priceblock_ourprice\"\u001b[0m\u001b[1;33m)\u001b[0m\u001b[1;33m[\u001b[0m\u001b[1;36m0\u001b[0m\u001b[1;33m]\u001b[0m\u001b[1;33m.\u001b[0m\u001b[0mgetText\u001b[0m\u001b[1;33m(\u001b[0m\u001b[1;33m)\u001b[0m\u001b[1;33m\u001b[0m\u001b[1;33m\u001b[0m\u001b[0m\n\u001b[0m",
      "\u001b[1;31mTypeError\u001b[0m: 'NoneType' object is not subscriptable"
     ]
    }
   ],
   "source": [
    "price = soup.find(id=\"priceblock_ourprice\")[0].getText()"
   ]
  },
  {
   "cell_type": "code",
   "execution_count": 215,
   "metadata": {},
   "outputs": [
    {
     "output_type": "error",
     "ename": "IndexError",
     "evalue": "list index out of range",
     "traceback": [
      "\u001b[1;31m---------------------------------------------------------------------------\u001b[0m",
      "\u001b[1;31mIndexError\u001b[0m                                Traceback (most recent call last)",
      "\u001b[1;32m<ipython-input-215-13ecf5cddb34>\u001b[0m in \u001b[0;36m<module>\u001b[1;34m\u001b[0m\n\u001b[1;32m----> 1\u001b[1;33m \u001b[0mprice\u001b[0m \u001b[1;33m=\u001b[0m \u001b[0msoup\u001b[0m\u001b[1;33m.\u001b[0m\u001b[0mselect\u001b[0m\u001b[1;33m(\u001b[0m\u001b[1;34m\"#priceblock_saleprice\"\u001b[0m\u001b[1;33m)\u001b[0m\u001b[1;33m[\u001b[0m\u001b[1;36m0\u001b[0m\u001b[1;33m]\u001b[0m\u001b[1;33m.\u001b[0m\u001b[0mgetText\u001b[0m\u001b[1;33m(\u001b[0m\u001b[1;33m)\u001b[0m\u001b[1;33m\u001b[0m\u001b[1;33m\u001b[0m\u001b[0m\n\u001b[0m",
      "\u001b[1;31mIndexError\u001b[0m: list index out of range"
     ]
    }
   ],
   "source": [
    "price = soup.select(\"#priceblock_saleprice\")[0].getText()"
   ]
  },
  {
   "cell_type": "code",
   "execution_count": null,
   "metadata": {},
   "outputs": [],
   "source": []
  }
 ],
 "metadata": {
  "language_info": {
   "codemirror_mode": {
    "name": "ipython",
    "version": 3
   },
   "file_extension": ".py",
   "mimetype": "text/x-python",
   "name": "python",
   "nbconvert_exporter": "python",
   "pygments_lexer": "ipython3",
   "version": "3.8.3-final"
  },
  "orig_nbformat": 2,
  "kernelspec": {
   "name": "python38332bit5edbb3147ffc42338a55d41c588604cf",
   "display_name": "Python 3.8.3 32-bit"
  }
 },
 "nbformat": 4,
 "nbformat_minor": 2
}